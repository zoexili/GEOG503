{
 "cells": [
  {
   "cell_type": "markdown",
   "metadata": {},
   "source": [
    "# Question 1"
   ]
  },
  {
   "cell_type": "code",
   "execution_count": null,
   "metadata": {
    "collapsed": false
   },
   "outputs": [],
   "source": [
    "valuelist = []\n",
    "while True:\n",
    "    try:\n",
    "        inp = raw_input(\"Enter a number here (stop if 'done' is entered):\")\n",
    "        if inp == 'done':\n",
    "            print(\"the largest number is {}\".format(max(valuelist)))\n",
    "            print(\"the smallest number is {}\".format(min(valuelist)))\n",
    "            print(\"the sum is {}\".format(sum(valuelist)))\n",
    "            print(\"the average is {}\".format(sum(valuelist)/len(valuelist)))\n",
    "        else:\n",
    "            valuelist.append(float(inp))\n",
    "    except:\n",
    "        print(\"invalid input\")"
   ]
  },
  {
   "cell_type": "markdown",
   "metadata": {},
   "source": [
    "# Question 2"
   ]
  },
  {
   "cell_type": "code",
   "execution_count": 1,
   "metadata": {
    "collapsed": true
   },
   "outputs": [],
   "source": [
    "import arcpy\n",
    "from arcpy import env\n",
    "env.workspace = r\"C:\\Geog 503\\data\\testdata.gdb\"\n",
    "env.overwriteOutput = True"
   ]
  },
  {
   "cell_type": "code",
   "execution_count": null,
   "metadata": {
    "collapsed": false
   },
   "outputs": [],
   "source": [
    "fclist = arcpy.ListFeatureClasses()\n",
    "for fc in fclist:\n",
    "    desc = arcpy.Describe(fc)\n",
    "    Type = desc.shapetype\n",
    "    if Type == \"Polygon\":\n",
    "        arcpy.CopyFeatures_management(fc,\"C:/Geog 503/data/Results/\" + fc + \".shp\")\n",
    "tifflist = arcpy.ListRasters()\n",
    "for tiff in tifflist:\n",
    "    desc = arcpy.Describe(tiff)\n",
    "    Type = desc.pixelType\n",
    "    print(Type)\n",
    "    if Type == \"F32\":\n",
    "        arcpy.CopyRaster_management(tiff,\"C:/Geog 503/data/Results/\" + tiff + \".tif\")"
   ]
  },
  {
   "cell_type": "markdown",
   "metadata": {},
   "source": [
    "# Question 3"
   ]
  },
  {
   "cell_type": "code",
   "execution_count": null,
   "metadata": {
    "collapsed": false
   },
   "outputs": [],
   "source": [
    "import arcpy\n",
    "arcpy.env.workspace = r\"C:\\Geog 503\\data\"\n",
    "biglist = []\n",
    "f = open(r\"C:\\Geog 503\\data\\airports.txt\",\"r\")\n",
    "for line in f.readlines():\n",
    "    fulllist = line.split(',')\n",
    "    for item in fulllist:\n",
    "        small_list = []\n",
    "        value = item.split(': ')[1]\n",
    "        small_list.append(value)\n",
    "        biglist.append(small_list)\n",
    "fc = \"airports.shp\"\n",
    "prjfile = r\"C:\\Geog 503\\data\\airports.prj\"\n",
    "spatialref = arcpy.SpatialReference(prjfile)\n",
    "outpath = r\"C:\\Geog 503\\data\\Results\"\n",
    "arcpy.CreateFeatureclass_management(outpath,fc,\"POINT\",\"\",\"\",\"\",spatialref)\n",
    "field1 = arcpy.AddField_management(fc,\"ID\",float)\n",
    "field2 = arcpy.AddField_management(fc,\"NAME\",string)\n",
    "field3 = arcpy.AddField_management(fc,\"LOCID\",float)\n",
    "field4 = arcpy.AddField_management(fc,\"SHAPE@X\",double)\n",
    "field5 = arcpy.AddField_management(fc,\"SHAPE@Y\",double)\n",
    "fields = [field1,field2,field3,field4,field5]\n",
    "cursor = arcpy.da.InsertCursor(fc,fields)\n",
    "for item in biglist:\n",
    "    cursor.insertRow(item)\n",
    "del cursor\n",
    "f.close()"
   ]
  },
  {
   "cell_type": "markdown",
   "metadata": {},
   "source": [
    "# Question 4"
   ]
  },
  {
   "cell_type": "code",
   "execution_count": 4,
   "metadata": {
    "collapsed": false
   },
   "outputs": [
    {
     "name": "stdout",
     "output_type": "stream",
     "text": [
      "372236.642923135 2094769.12137791 941120.12366655 2458884.21017432 NaN NaN NaN NaN\n",
      "[[372236.64292313455, 2094769.1213779112], [941120.1236665497, 2094769.1213779112], [941120.1236665497, 2458884.210174321], [372236.64292313455, 2458884.210174321], [372236.64292313455, 2094769.1213779112]]\n",
      "5\n"
     ]
    }
   ],
   "source": [
    "import arcpy\n",
    "from arcpy import env\n",
    "env.workspace = r\"C:\\Geog 503\\data\"\n",
    "env.overwriteOutput = True\n",
    "fc = \"Hawaii.shp\"\n",
    "cursor = arcpy.da.SearchCursor(fc,[\"SHAPE@\"])\n",
    "for row in cursor:\n",
    "    extent = row[0].extent\n",
    "    print(extent)\n",
    "xmin = extent.XMin\n",
    "xmax = extent.XMax\n",
    "ymin = extent.YMin\n",
    "ymax = extent.YMax\n",
    "pnt = arcpy.Point()\n",
    "array = arcpy.Array()\n",
    "pointlist = [[xmin,ymin],[xmax,ymin],[xmax,ymax],[xmin,ymax],[xmin,ymin]]\n",
    "print(pointlist)\n",
    "for coord in pointlist:\n",
    "    pnt.X = coord[0]\n",
    "    pnt.Y = coord[1]\n",
    "    array.add(pnt)\n",
    "print(array.count)\n",
    "prj = r\"C:\\Geog 503\\lab7\\Hawaii.prj\"\n",
    "spatialref = arcpy.SpatialReference(prj)\n",
    "fc = arcpy.Polygon(array,spatialref)\n",
    "arcpy.CopyFeatures_management(fc,\"new_hawaii.shp\")\n",
    "del cursor\n",
    "del row"
   ]
  }
 ],
 "metadata": {
  "anaconda-cloud": {},
  "kernelspec": {
   "display_name": "Python [conda env:arc104]",
   "language": "python",
   "name": "conda-env-arc104-py"
  },
  "language_info": {
   "codemirror_mode": {
    "name": "ipython",
    "version": 2
   },
   "file_extension": ".py",
   "mimetype": "text/x-python",
   "name": "python",
   "nbconvert_exporter": "python",
   "pygments_lexer": "ipython2",
   "version": "2.7.12"
  }
 },
 "nbformat": 4,
 "nbformat_minor": 1
}
