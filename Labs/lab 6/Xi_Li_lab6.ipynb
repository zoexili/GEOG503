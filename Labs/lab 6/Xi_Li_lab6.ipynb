{
 "cells": [
  {
   "cell_type": "markdown",
   "metadata": {
    "deletable": true,
    "editable": true
   },
   "source": [
    "# Question 1\n",
    "## a"
   ]
  },
  {
   "cell_type": "code",
   "execution_count": null,
   "metadata": {
    "collapsed": true,
    "deletable": true,
    "editable": true
   },
   "outputs": [],
   "source": [
    "import arcpy\n",
    "arcpy.env.workspace = r\"C:\\Geog 503\\lab6\""
   ]
  },
  {
   "cell_type": "code",
   "execution_count": null,
   "metadata": {
    "collapsed": false,
    "deletable": true,
    "editable": true,
    "scrolled": true
   },
   "outputs": [],
   "source": [
    "fc = \"airports.shp\"\n",
    "fields = [\"NAME\", \"LOCID\", \"COUNTY\"]\n",
    "fieldDelim = arcpy.AddFieldDelimiters(fc,\"COUNTY\") \n",
    "print(fieldDelim)\n",
    "where_clause = fieldDelim + \"='Nome Census Area'\"\n",
    "print(where_clause)\n",
    "cursor = arcpy.da.SearchCursor(fc,fields,where_clause)\n",
    "for row in cursor:\n",
    "    if row[2] == \"Nome Census Area\":\n",
    "        print(row[0],row[1])\n",
    "del cursor\n",
    "del row"
   ]
  },
  {
   "cell_type": "markdown",
   "metadata": {
    "deletable": true,
    "editable": true
   },
   "source": [
    "## b"
   ]
  },
  {
   "cell_type": "code",
   "execution_count": null,
   "metadata": {
    "collapsed": false,
    "deletable": true,
    "editable": true
   },
   "outputs": [],
   "source": [
    "fc = \"airports.shp\"\n",
    "fields = \"STATE\"\n",
    "fieldDelim = arcpy.AddFieldDelimiters(fc,\"COUNTY\") \n",
    "where_clause = fieldDelim + \"='Nome Census Area'\"\n",
    "cursor = arcpy.da.UpdateCursor(fc,fields,where_clause)\n",
    "for row in cursor:\n",
    "    if row[0] != \"AK\":\n",
    "        row[0] = \"AK\"\n",
    "        cursor.updateRow(row)\n",
    "del cursor\n",
    "del row"
   ]
  },
  {
   "cell_type": "markdown",
   "metadata": {
    "deletable": true,
    "editable": true
   },
   "source": [
    "## c"
   ]
  },
  {
   "cell_type": "code",
   "execution_count": null,
   "metadata": {
    "collapsed": false,
    "deletable": true,
    "editable": true
   },
   "outputs": [],
   "source": [
    "import arcpy\n",
    "import csv\n",
    "fc = \"airports.shp\"\n",
    "fields = [\"NAME\",\"LOCID\",\"SHAPE@X\",\"SHAPE@Y\"]\n",
    "fieldDelim = arcpy.AddFieldDelimiters(fc,\"COUNTY\") \n",
    "where_clause = fieldDelim + \"='Nome Census Area'\"\n",
    "cursor = arcpy.da.SearchCursor(fc,fields,where_clause)\n",
    "f = open(\"C:/Geog 503/lab6/Results/airports.txt\",\"w\")\n",
    "w = csv.writer(f)\n",
    "w.writerow(fields)\n",
    "for row in cursor:\n",
    "    w.writerow(row)\n",
    "del cursor\n",
    "f.close()"
   ]
  },
  {
   "cell_type": "code",
   "execution_count": null,
   "metadata": {
    "collapsed": false,
    "deletable": true,
    "editable": true
   },
   "outputs": [],
   "source": [
    "import arcpy\n",
    "arcpy.env.workspace = r\"C:\\Geog 503\\lab6\"\n",
    "fc = \"airports.shp\"\n",
    "fields = arcpy.ListFields(fc)\n",
    "for field in fields:\n",
    "    print(field.name, field.type)"
   ]
  },
  {
   "cell_type": "markdown",
   "metadata": {
    "deletable": true,
    "editable": true
   },
   "source": [
    "# Question 2"
   ]
  },
  {
   "cell_type": "code",
   "execution_count": null,
   "metadata": {
    "collapsed": false,
    "deletable": true,
    "editable": true
   },
   "outputs": [],
   "source": [
    "import arcpy\n",
    "from arcpy import env\n",
    "env.workspace = r\"C:\\Geog 503\\lab6\"\n",
    "env.overwriteOutput = True\n",
    "input = open(r\"C:\\Geog 503\\lab6\\airports.txt\")\n",
    "# output = open(r\"C:\\Geog 503\\lab6\\airports_new.txt\",\"w\") \n",
    "biglist = []\n",
    "for line in input.readlines():\n",
    "    fulllist = line.split(\",\")\n",
    "    smalllist = []\n",
    "    for item in fulllist:\n",
    "        value = item.split(':')[1]\n",
    "        smalllist.append(value)\n",
    "    biglist.append(smalllist)\n",
    "    print(biglist)\n",
    "    \n",
    "outpath = r\"C:\\Geog 503\\lab6\"\n",
    "fc = \"airports_new.shp\"\n",
    "arcpy.CreateFeatureclass_management(outpath,fc,\"Point\")\n",
    "\n",
    "Field1 = arcpy.AddField_management(fc,\"IID\",\"Float\")\n",
    "Field2 = arcpy.AddField_management(fc,\"NAME\",\"String\")\n",
    "Field3 = arcpy.AddField_management(fc,\"LOCID\",\"String\")\n",
    "Field4 = arcpy.AddField_management(fc,\"X\",\"Double\")\n",
    "Field5 = arcpy.AddField_management(fc,\"Y\",\"Double\")\n",
    "Fields = [\"IID\",\"NAME\",\"LOCID\",\"SHAPE@X\",\"SHAPE@Y\"]\n",
    "\n",
    "cursor = arcpy.da.InsertCursor(fc,Fields)\n",
    "for item in biglist:\n",
    "    print(item)\n",
    "    cursor.insertRow(item)\n",
    "del cursor\n",
    "prj_file = r\"C:\\Geog 503\\lab6\\airports.prj\"\n",
    "spatialref = arcpy.SpatialReference(prj_file)\n",
    "arcpy.DefineProjection_management(\"airports_new.shp\",spatialref)"
   ]
  }
 ],
 "metadata": {
  "anaconda-cloud": {},
  "kernelspec": {
   "display_name": "Python 3",
   "language": "python",
   "name": "python3"
  },
  "language_info": {
   "codemirror_mode": {
    "name": "ipython",
    "version": 3.0
   },
   "file_extension": ".py",
   "mimetype": "text/x-python",
   "name": "python",
   "nbconvert_exporter": "python",
   "pygments_lexer": "ipython3",
   "version": "3.5.3"
  }
 },
 "nbformat": 4,
 "nbformat_minor": 0
}