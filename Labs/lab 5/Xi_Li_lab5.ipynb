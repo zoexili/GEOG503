{
 "cells": [
  {
   "cell_type": "markdown",
   "metadata": {},
   "source": [
    "# Question 1 "
   ]
  },
  {
   "cell_type": "code",
   "execution_count": 45,
   "metadata": {
    "collapsed": false
   },
   "outputs": [
    {
     "name": "stdout",
     "output_type": "stream",
     "text": [
      "Point\n",
      "Point\n",
      "Polygon\n",
      "Polygon\n",
      "Polyline\n"
     ]
    }
   ],
   "source": [
    "import arcpy\n",
    "arcpy.env.workspace = r\"C:\\Geog 503\\lab5\"\n",
    "arcpy.CreateFileGDB_management(\"C:/Geog 503/lab5/Results/\", \"new.gdb\")\n",
    "fclist = arcpy.ListFeatureClasses()\n",
    "for fc in fclist:\n",
    "    desc = arcpy.Describe(fc)\n",
    "    basename = desc.basename\n",
    "    Type = desc.shapetype\n",
    "    print(Type)\n",
    "    if Type == \"Point\" or Type == \"Polygon\":\n",
    "        arcpy.CopyFeatures_management(fc, \"C:/Geog 503/lab5/Results/new.gdb/\" + basename)"
   ]
  },
  {
   "cell_type": "markdown",
   "metadata": {},
   "source": [
    "# Question 2"
   ]
  },
  {
   "cell_type": "code",
   "execution_count": 7,
   "metadata": {
    "collapsed": false,
    "scrolled": true
   },
   "outputs": [
    {
     "name": "stdout",
     "output_type": "stream",
     "text": [
      "Polygon\n",
      "Polygon\n",
      "Polygon\n",
      "Point\n",
      "Point\n",
      "F32\n",
      "U16\n",
      "U8\n",
      "U8\n"
     ]
    }
   ],
   "source": [
    "import arcpy\n",
    "arcpy.env.workspace = r\"C:\\Geog 503\\lab5\\testdata.gdb\"\n",
    "fclist = arcpy.ListFeatureClasses()\n",
    "tifflist = arcpy.ListRasters()\n",
    "for fc in fclist:\n",
    "    desc = arcpy.Describe(fc)\n",
    "    Type1 = desc.shapetype\n",
    "    print(Type1)\n",
    "    if Type1 == \"Polygon\":\n",
    "        arcpy.CopyFeatures_management(fc, \"C:/Geog 503/lab5/Results/\" + fc)\n",
    "for tiff in tifflist:\n",
    "    desc = arcpy.Describe(tiff)\n",
    "    Type2 = desc.pixeltype\n",
    "    print(Type2)\n",
    "    if Type2 == \"F32\":\n",
    "        arcpy.CopyRaster_management(tiff, \"C:/Geog 503/lab5/Results/\" + tiff + \".tif\")"
   ]
  },
  {
   "cell_type": "markdown",
   "metadata": {},
   "source": [
    "# Question 3"
   ]
  },
  {
   "cell_type": "code",
   "execution_count": 10,
   "metadata": {
    "collapsed": false
   },
   "outputs": [
    {
     "name": "stdout",
     "output_type": "stream",
     "text": [
      "[u'ElevationFloat.tif']\n",
      "(u'USA_Contiguous_Albers_Equal_Area_Conic_USGS_version', 30.0, 30.0, 233, 207, <Result '4309'>, <Result '5832'>, <Result '4907.5136753423'>)\n"
     ]
    }
   ],
   "source": [
    "import arcpy\n",
    "arcpy.env.workspace = r\"C:\\Geog 503\\lab5\\Results\"\n",
    "tifflist = arcpy.ListRasters()\n",
    "print(tifflist)\n",
    "for tiff in tifflist:\n",
    "    desc = arcpy.Describe(tiff)\n",
    "    sr = desc.spatialreference.name\n",
    "    cell_y = desc.meanCellHeight\n",
    "    cell_x = desc.meanCellWidth\n",
    "    column = desc.width\n",
    "    width = desc.height\n",
    "    min = arcpy.GetRasterProperties_management(tiff, \"MINIMUM\")\n",
    "    max = arcpy.GetRasterProperties_management(tiff,\"MAXIMUM\")\n",
    "    mean = arcpy.GetRasterProperties_management(tiff,\"MEAN\")\n",
    "print (sr, cell_y, cell_x, column, width, min, max, mean)"
   ]
  },
  {
   "cell_type": "markdown",
   "metadata": {},
   "source": [
    "# Question 4"
   ]
  },
  {
   "cell_type": "code",
   "execution_count": 72,
   "metadata": {
    "collapsed": false
   },
   "outputs": [
    {
     "name": "stdout",
     "output_type": "stream",
     "text": [
      "[u'buffers_poly.shp', u'LittlePolys.shp', u'Watersheds_polygon.shp']\n",
      "SITE_NO String 15\n",
      "STATION_NM String 50\n",
      "LAND_NET_D String 22\n",
      "MAP_NM String 14\n",
      "DATA_TYPES String 30\n",
      "INSTRUMENT String 30\n",
      "STAID String 50\n",
      "STAID String 50\n"
     ]
    }
   ],
   "source": [
    "import arcpy\n",
    "from arcpy import env\n",
    "env.workspace = r\"C:\\Geog 503\\lab5\\Results\"\n",
    "fclist = arcpy.ListFeatureClasses()\n",
    "print(fclist)\n",
    "for fc in fclist:\n",
    "    desc = arcpy.Describe(fc)\n",
    "    Type = desc.shapetype\n",
    "    fields = desc.fields\n",
    "    if Type == \"Polygon\":\n",
    "        for field in fields:\n",
    "            if field.type == \"String\":\n",
    "                if field.length > 10:\n",
    "                    print(field.name + \" \" + field.type + \" \" + str(field.length))"
   ]
  }
 ],
 "metadata": {
  "anaconda-cloud": {},
  "kernelspec": {
   "display_name": "Python [conda env:arc104]",
   "language": "python",
   "name": "conda-env-arc104-py"
  },
  "language_info": {
   "codemirror_mode": {
    "name": "ipython",
    "version": 2.0
   },
   "file_extension": ".py",
   "mimetype": "text/x-python",
   "name": "python",
   "nbconvert_exporter": "python",
   "pygments_lexer": "ipython2",
   "version": "2.7.12"
  }
 },
 "nbformat": 4,
 "nbformat_minor": 0
}