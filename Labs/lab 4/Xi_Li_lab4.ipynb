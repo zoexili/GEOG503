{
 "cells": [
  {
   "cell_type": "code",
   "execution_count": 1,
   "metadata": {
    "collapsed": true
   },
   "outputs": [],
   "source": [
    "import arcpy"
   ]
  },
  {
   "cell_type": "code",
   "execution_count": 3,
   "metadata": {
    "collapsed": true
   },
   "outputs": [],
   "source": [
    "arcpy.env.workspace = r\"C:\\Geog 503\\lab4\""
   ]
  },
  {
   "cell_type": "code",
   "execution_count": 4,
   "metadata": {
    "collapsed": false
   },
   "outputs": [
    {
     "data": {
      "text/plain": [
       "[u'facilities.shp', u'hospitals.shp', u'parks.shp']"
      ]
     },
     "execution_count": 4,
     "metadata": {},
     "output_type": "execute_result"
    }
   ],
   "source": [
    "arcpy.ListFiles(\"*a*.shp\")"
   ]
  },
  {
   "cell_type": "code",
   "execution_count": 8,
   "metadata": {
    "collapsed": false
   },
   "outputs": [
    {
     "data": {
      "text/plain": [
       "<Result 'C:\\\\Geog 503\\\\lab4\\\\Results\\\\park_buffer.shp'>"
      ]
     },
     "execution_count": 8,
     "metadata": {},
     "output_type": "execute_result"
    }
   ],
   "source": [
    "arcpy.overwriteOutput = True\n",
    "infc = \"parks.shp\"\n",
    "outfc = r\"C:\\Geog 503\\lab4\\Results\\park_buffer.shp\"\n",
    "dist = \"100 METERS\"\n",
    "dis_option = \"ALL\"\n",
    "dis_field = \"PARK_TYPE\"\n",
    "arcpy.Buffer_analysis(infc,outfc,dist,\"\",\"\",dis_option,dis_field)"
   ]
  },
  {
   "cell_type": "code",
   "execution_count": 10,
   "metadata": {
    "collapsed": false
   },
   "outputs": [
    {
     "data": {
      "text/plain": [
       "<Result 'C:\\\\Geog 503\\\\lab4\\\\Results\\\\results.gdb\\\\park_sum'>"
      ]
     },
     "execution_count": 10,
     "metadata": {},
     "output_type": "execute_result"
    }
   ],
   "source": [
    "arcpy.Statistics_analysis(\"parks.shp\",r\"C:\\Geog 503\\lab4\\Results\\results.gdb\\park_sum\",\"SHAPE_AREA SUM\",\"\")"
   ]
  },
  {
   "cell_type": "code",
   "execution_count": 13,
   "metadata": {
    "collapsed": false
   },
   "outputs": [
    {
     "name": "stdout",
     "output_type": "stream",
     "text": [
      "NAD_1983_StatePlane_Texas_Central_FIPS_4203_Feet\n"
     ]
    }
   ],
   "source": [
    "import arcpy\n",
    "arcpy.env.workspace = r\"C:\\Geog 503\\lab4\"\n",
    "prjfile = r\"C:\\Geog 503\\lab4\\facilities.prj\"\n",
    "spatial_ref = arcpy.SpatialReference(prjfile)\n",
    "arcpy.DefineProjection_management(\"hospitals.shp\",spatial_ref)\n",
    "print(spatial_ref.name)"
   ]
  },
  {
   "cell_type": "code",
   "execution_count": 12,
   "metadata": {
    "collapsed": false
   },
   "outputs": [
    {
     "name": "stdout",
     "output_type": "stream",
     "text": [
      "The following extensions are available:['ArcGIS 3D Analyst', 'Spatial Analyst', 'Geostatistical Analyst', 'Tracking Analyst']\n"
     ]
    }
   ],
   "source": [
    "import arcpy\n",
    "arcpy.env.workspace = r\"C:\\Geog 503\\lab4\"\n",
    "list = []\n",
    "if arcpy.CheckExtension(\"3D\") == u'Available':\n",
    "    list.append(\"ArcGIS 3D Analyst\") \n",
    "if arcpy.CheckExtension(\"spatial\") == u'Available':\n",
    "    list.append(\"Spatial Analyst\")\n",
    "if arcpy.CheckExtension(\"GeoStats\") == u'Available':\n",
    "    list.append(\"Geostatistical Analyst\")\n",
    "tracking_ext = arcpy.CheckExtension(\"tracking\")\n",
    "if arcpy.CheckExtension(\"tracking\") == u'Available':\n",
    "    list.append(\"Tracking Analyst\")\n",
    "    print (\"The following extensions are available:\") + str(list)"
   ]
  }
 ],
 "metadata": {
  "anaconda-cloud": {},
  "kernelspec": {
   "display_name": "Python [conda env:arc104]",
   "language": "python",
   "name": "conda-env-arc104-py"
  },
  "language_info": {
   "codemirror_mode": {
    "name": "ipython",
    "version": 2.0
   },
   "file_extension": ".py",
   "mimetype": "text/x-python",
   "name": "python",
   "nbconvert_exporter": "python",
   "pygments_lexer": "ipython2",
   "version": "2.7.12"
  }
 },
 "nbformat": 4,
 "nbformat_minor": 0
}