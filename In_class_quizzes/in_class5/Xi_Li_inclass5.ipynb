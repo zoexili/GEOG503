{
 "cells": [
  {
   "cell_type": "code",
   "execution_count": 6,
   "metadata": {
    "collapsed": true
   },
   "outputs": [],
   "source": [
    "import arcpy"
   ]
  },
  {
   "cell_type": "code",
   "execution_count": 7,
   "metadata": {
    "collapsed": true
   },
   "outputs": [],
   "source": [
    "arcpy.env.workspace = r\"C:\\Geog 503\\inclass05\""
   ]
  },
  {
   "cell_type": "code",
   "execution_count": 8,
   "metadata": {
    "collapsed": false
   },
   "outputs": [
    {
     "name": "stdout",
     "output_type": "stream",
     "text": [
      "[u'bike_routes.shp', u'facilities.shp', u'hospitals.shp', u'parks.shp', u'zip.shp']\n"
     ]
    }
   ],
   "source": [
    "Files = arcpy.ListFiles(\"*.shp\")\n",
    "print (Files)"
   ]
  },
  {
   "cell_type": "code",
   "execution_count": 9,
   "metadata": {
    "collapsed": false
   },
   "outputs": [
    {
     "name": "stdout",
     "output_type": "stream",
     "text": [
      "Polyline\n"
     ]
    }
   ],
   "source": [
    "desc = arcpy.Describe(\"bike_routes.shp\")\n",
    "bike_routes = desc.shapetype\n",
    "print (bike_routes)"
   ]
  },
  {
   "cell_type": "code",
   "execution_count": 10,
   "metadata": {
    "collapsed": false
   },
   "outputs": [
    {
     "name": "stdout",
     "output_type": "stream",
     "text": [
      "Point\n"
     ]
    }
   ],
   "source": [
    "desc = arcpy.Describe(\"facilities.shp\")\n",
    "faci = desc.shapetype\n",
    "print (faci)"
   ]
  },
  {
   "cell_type": "code",
   "execution_count": 11,
   "metadata": {
    "collapsed": false
   },
   "outputs": [
    {
     "name": "stdout",
     "output_type": "stream",
     "text": [
      "Point\n"
     ]
    }
   ],
   "source": [
    "desc = arcpy.Describe(\"hospitals.shp\")\n",
    "hosp = desc.shapetype\n",
    "print (hosp)"
   ]
  },
  {
   "cell_type": "code",
   "execution_count": 13,
   "metadata": {
    "collapsed": false
   },
   "outputs": [
    {
     "name": "stdout",
     "output_type": "stream",
     "text": [
      "Polygon\n"
     ]
    }
   ],
   "source": [
    "desc = arcpy.Describe(\"parks.shp\")\n",
    "park = desc.shapetype\n",
    "print (park)"
   ]
  },
  {
   "cell_type": "code",
   "execution_count": 12,
   "metadata": {
    "collapsed": false
   },
   "outputs": [
    {
     "name": "stdout",
     "output_type": "stream",
     "text": [
      "Polygon\n"
     ]
    }
   ],
   "source": [
    "desc = arcpy.Describe(\"zip.shp\")\n",
    "zip_ = desc.shapetype\n",
    "print (zip_)"
   ]
  },
  {
   "cell_type": "code",
   "execution_count": 16,
   "metadata": {
    "collapsed": false
   },
   "outputs": [],
   "source": [
    "Files = arcpy.ListFiles(\"*.shp\")\n",
    "for shp in Files:\n",
    "    desc = arcpy.Describe(shp)\n",
    "    baseName = desc.baseName\n",
    "    out_file = \"Results/\" + baseName + \"_buffer.shp\"\n",
    "    shapetype = desc.shapeType\n",
    "    if shapetype == \"Point\":\n",
    "        arcpy.Buffer_analysis(shp,out_file,\"1000 METERS\")\n",
    "    if shapetype == \"Polyline\":\n",
    "        arcpy.Buffer_analysis(shp,out_file,\"2000 METERS\")\n",
    "    if shapetype == \"Polygon\":\n",
    "        arcpy.Buffer_analysis(shp,out_file,\"3000 Meters\")"
   ]
  },
  {
   "cell_type": "code",
   "execution_count": 38,
   "metadata": {
    "collapsed": false
   },
   "outputs": [
    {
     "ename": "SyntaxError",
     "evalue": "invalid syntax (<ipython-input-38-df458ac0e073>, line 11)",
     "traceback": [
      "\u001b[0;36m  File \u001b[0;32m\"<ipython-input-38-df458ac0e073>\"\u001b[0;36m, line \u001b[0;32m11\u001b[0m\n\u001b[0;31m    dist3 = \"3000 METERS\":\u001b[0m\n\u001b[0m                         ^\u001b[0m\n\u001b[0;31mSyntaxError\u001b[0m\u001b[0;31m:\u001b[0m invalid syntax\n"
     ],
     "output_type": "error"
    }
   ],
   "source": [
    "arcpy.Buffer_analysis()\n",
    "infc = Files\n",
    "outfc = Files\n",
    "if arcpy.FeatureType == \"Point\":\n",
    "    dist1 = \"1000 METERS\"\n",
    "    arcpy.Buffer_analysis(infc,outfc,dist1)\n",
    "if arcpy.FeatureType == \"Polyline\":\n",
    "    dist2 = \"2000 METERS\"\n",
    "    arcpy.Buffer_analysis(infc,outfc,dist2)\n",
    "if arcpy.FeatureType == \"Polygon\":\n",
    "    dist3 = \"3000 METERS\":\n",
    "    arcpy.Buffer_analysis(infc,outfc,dist3)"
   ]
  }
 ],
 "metadata": {
  "anaconda-cloud": {},
  "kernelspec": {
   "display_name": "Python [conda env:arc104]",
   "language": "python",
   "name": "conda-env-arc104-py"
  },
  "language_info": {
   "codemirror_mode": {
    "name": "ipython",
    "version": 2.0
   },
   "file_extension": ".py",
   "mimetype": "text/x-python",
   "name": "python",
   "nbconvert_exporter": "python",
   "pygments_lexer": "ipython2",
   "version": "2.7.12"
  }
 },
 "nbformat": 4,
 "nbformat_minor": 0
}