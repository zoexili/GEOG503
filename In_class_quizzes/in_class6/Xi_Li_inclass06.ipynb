{
 "cells": [
  {
   "cell_type": "code",
   "execution_count": 1,
   "metadata": {
    "collapsed": true
   },
   "outputs": [],
   "source": [
    "import arcpy\n",
    "from arcpy import env"
   ]
  },
  {
   "cell_type": "code",
   "execution_count": 3,
   "metadata": {
    "collapsed": true
   },
   "outputs": [],
   "source": [
    "env.workspace = r\"C:\\Geog 503\\data\""
   ]
  },
  {
   "cell_type": "code",
   "execution_count": 27,
   "metadata": {
    "collapsed": false
   },
   "outputs": [],
   "source": [
    "#solution 1\n",
    "in_table = \"airports.shp\"\n",
    "field = [\"STATE\"]\n",
    "cursor = arcpy.da.UpdateCursor(in_table,field)\n",
    "for row in cursor:\n",
    "    if row[0] != \"AK\":\n",
    "        row[0] == \"AK\"\n",
    "        cursor.updateRow(field)\n",
    "del cursor\n",
    "del row"
   ]
  },
  {
   "cell_type": "code",
   "execution_count": 25,
   "metadata": {
    "collapsed": true
   },
   "outputs": [],
   "source": [
    "#solution 2\n",
    "in_table = \"airports.shp\"\n",
    "field = [\"STATE\"]\n",
    "cursor = arcpy.da.UpdateCursor(in_table,field)\n",
    "for row in cursor:\n",
    "    if row[0].strip() == \"\":\n",
    "        row[0] = \"AK\"\n",
    "        cursor.updateRow(field)\n",
    "del cursor\n",
    "del row"
   ]
  },
  {
   "cell_type": "code",
   "execution_count": 24,
   "metadata": {
    "collapsed": false
   },
   "outputs": [],
   "source": [
    "in_table = \"airports.shp\"\n",
    "field = [\"COUNTY\"]\n",
    "cursor = arcpy.da.UpdateCursor(in_table,field)\n",
    "for row in cursor:\n",
    "    if row[0] == \"Anchorage Borough\":\n",
    "        cursor.deleteRow()\n",
    "del cursor\n",
    "del row"
   ]
  }
 ],
 "metadata": {
  "anaconda-cloud": {},
  "kernelspec": {
   "display_name": "Python [conda env:arc104]",
   "language": "python",
   "name": "conda-env-arc104-py"
  },
  "language_info": {
   "codemirror_mode": {
    "name": "ipython",
    "version": 2
   },
   "file_extension": ".py",
   "mimetype": "text/x-python",
   "name": "python",
   "nbconvert_exporter": "python",
   "pygments_lexer": "ipython2",
   "version": "2.7.12"
  }
 },
 "nbformat": 4,
 "nbformat_minor": 1
}
