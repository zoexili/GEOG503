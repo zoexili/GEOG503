{
 "cells": [
  {
   "cell_type": "code",
   "execution_count": 1,
   "metadata": {
    "collapsed": true
   },
   "outputs": [],
   "source": [
    "import arcpy"
   ]
  },
  {
   "cell_type": "code",
   "execution_count": 2,
   "metadata": {
    "collapsed": true
   },
   "outputs": [],
   "source": [
    "from arcpy import env\n",
    "env.overwriteOutput = True\n",
    "env.workspace = r\"C:\\Geog 503\\inclass07_data\\data\""
   ]
  },
  {
   "cell_type": "code",
   "execution_count": 18,
   "metadata": {
    "collapsed": false
   },
   "outputs": [
    {
     "name": "stdout",
     "output_type": "stream",
     "text": [
      "8780.44037544\n",
      "16125.7136095\n",
      "24774.0008901\n",
      "29352.507797\n",
      "38730.3884111\n",
      "53506.8074512\n",
      "63328.5344719\n",
      "66124.9536838\n",
      "73455.0011035\n",
      "89012.7696841\n",
      "96099.5836489\n",
      "114900.326795\n",
      "126424.20679\n",
      "142057.838334\n",
      "150849.621748\n",
      "162938.679613\n",
      "172216.837643\n",
      "180849.779726\n",
      "207463.283463\n",
      "214677.926674\n",
      "223839.559732\n",
      "236850.215142\n",
      "241879.546371\n",
      "247168.881032\n",
      "249676.08066\n",
      "256937.409437\n"
     ]
    }
   ],
   "source": [
    "fc = \"rivers.shp\"\n",
    "cursor = arcpy.da.SearchCursor(fc,[\"SHAPE@LENGTH\"])\n",
    "length = 0\n",
    "for row in cursor:\n",
    "    length = length + row[0]\n",
    "    print(str(length))"
   ]
  }
 ],
 "metadata": {
  "kernelspec": {
   "display_name": "Python [conda env:arc104]",
   "language": "python",
   "name": "conda-env-arc104-py"
  },
  "language_info": {
   "codemirror_mode": {
    "name": "ipython",
    "version": 2
   },
   "file_extension": ".py",
   "mimetype": "text/x-python",
   "name": "python",
   "nbconvert_exporter": "python",
   "pygments_lexer": "ipython2",
   "version": "2.7.12"
  }
 },
 "nbformat": 4,
 "nbformat_minor": 1
}
