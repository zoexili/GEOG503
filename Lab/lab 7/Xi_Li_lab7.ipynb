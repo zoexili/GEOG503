{
 "cells": [
  {
   "cell_type": "markdown",
   "metadata": {},
   "source": [
    "# Question 1"
   ]
  },
  {
   "cell_type": "code",
   "execution_count": 1,
   "metadata": {
    "collapsed": true
   },
   "outputs": [],
   "source": [
    "import arcpy\n",
    "arcpy.env.workspace = r\"C:\\Geog 503\\lab7\""
   ]
  },
  {
   "cell_type": "code",
   "execution_count": 39,
   "metadata": {
    "collapsed": false
   },
   "outputs": [
    {
     "data": {
      "text/plain": [
       "<Result 'C:\\\\Geog 503\\\\lab7\\\\new_polygon.shp'>"
      ]
     },
     "execution_count": 39,
     "metadata": {},
     "output_type": "execute_result"
    }
   ],
   "source": [
    "pnt = arcpy.Point()\n",
    "array = arcpy.Array()\n",
    "coordlist = [[0,0],[0,1000],[1000,0],[1000,1000],[0,0]]\n",
    "for coord in coordlist:\n",
    "    pnt.X = coord[0]\n",
    "    pnt.Y = coord[1]\n",
    "    array.add(pnt)\n",
    "fc = arcpy.Polygon(array)\n",
    "arcpy.CopyFeatures_management(fc,\"new_polygon.shp\")"
   ]
  },
  {
   "cell_type": "markdown",
   "metadata": {},
   "source": [
    "# Question 2"
   ]
  },
  {
   "cell_type": "code",
   "execution_count": null,
   "metadata": {
    "collapsed": false
   },
   "outputs": [],
   "source": [
    "fc = \"Hawaii.shp\"\n",
    "cursor = arcpy.da.SearchCursor(fc,[\"SHAPE@\"])\n",
    "for row in cursor:\n",
    "    polygon = row[0]\n",
    "    partnum = 0\n",
    "    for part in polygon:\n",
    "        print(\"part {}\".format(partnum))\n",
    "        pn = arcpy.Polygon(part)\n",
    "        print(pn.length,pn.area)\n",
    "        partnum += 1\n",
    "del cursor\n",
    "del row"
   ]
  },
  {
   "cell_type": "markdown",
   "metadata": {},
   "source": [
    "# Question 3"
   ]
  },
  {
   "cell_type": "code",
   "execution_count": 45,
   "metadata": {
    "collapsed": true
   },
   "outputs": [],
   "source": [
    "arcpy.env.overwriteOutput = True\n",
    "fc = \"Hawaii.shp\"\n",
    "cursor = arcpy.da.SearchCursor(fc,[\"SHAPE@\"])\n",
    "for row in cursor:\n",
    "    extent = row[0].extent\n",
    "    xmin = extent.XMin\n",
    "    xmax = extent.XMax\n",
    "    ymin = extent.YMin\n",
    "    ymax = extent.YMax\n",
    "pnt = arcpy.Point()\n",
    "array = arcpy.Array()\n",
    "pointlist = [[xmin,ymin],[xmax,ymin],[xmax,ymax],[xmin,ymax],[xmin,ymin]]\n",
    "for coord in pointlist:\n",
    "    pnt.X = coord[0]\n",
    "    pnt.Y = coord[1]\n",
    "    array.add(pnt)\n",
    "prj = r\"C:\\Geog 503\\lab7\\Hawaii.prj\"\n",
    "spatialref = arcpy.SpatialReference(prj)\n",
    "fc = arcpy.Polygon(array,spatialref)\n",
    "arcpy.CopyFeatures_management(fc,\"new_hawaii.shp\")\n",
    "del cursor\n",
    "del row"
   ]
  },
  {
   "cell_type": "markdown",
   "metadata": {},
   "source": [
    "# Question 4"
   ]
  },
  {
   "cell_type": "code",
   "execution_count": 2,
   "metadata": {
    "collapsed": false
   },
   "outputs": [
    {
     "ename": "NameError",
     "evalue": "name 'geomlist' is not defined",
     "traceback": [
      "\u001b[0;31m---------------------------------------------------------------------------\u001b[0m",
      "\u001b[0;31mNameError\u001b[0m                                 Traceback (most recent call last)",
      "\u001b[0;32m<ipython-input-2-3e7a05dbd67d>\u001b[0m in \u001b[0;36m<module>\u001b[0;34m()\u001b[0m\n\u001b[1;32m     28\u001b[0m             \u001b[0msmall_list\u001b[0m\u001b[1;33m.\u001b[0m\u001b[0mappend\u001b[0m\u001b[1;33m(\u001b[0m\u001b[0mfloat\u001b[0m\u001b[1;33m(\u001b[0m\u001b[0mY\u001b[0m\u001b[1;33m)\u001b[0m\u001b[1;33m)\u001b[0m\u001b[1;33m\u001b[0m\u001b[0m\n\u001b[1;32m     29\u001b[0m \u001b[0mbig_list\u001b[0m\u001b[1;33m.\u001b[0m\u001b[0mappend\u001b[0m\u001b[1;33m(\u001b[0m\u001b[0msmall_list\u001b[0m\u001b[1;33m)\u001b[0m\u001b[1;33m\u001b[0m\u001b[0m\n\u001b[0;32m---> 30\u001b[0;31m \u001b[0marcpy\u001b[0m\u001b[1;33m.\u001b[0m\u001b[0mCopyFeatures_management\u001b[0m\u001b[1;33m(\u001b[0m\u001b[0mgeomlist\u001b[0m\u001b[1;33m,\u001b[0m\u001b[0moutshp\u001b[0m\u001b[1;33m)\u001b[0m\u001b[1;33m\u001b[0m\u001b[0m\n\u001b[0m",
      "\u001b[0;31mNameError\u001b[0m: name 'geomlist' is not defined"
     ],
     "output_type": "error"
    }
   ],
   "source": [
    "prjfile = r\"C:\\Geog 503\\lab7\\Hawaii.prj\"\n",
    "spatialref = arcpy.SpatialReference(prjfile)\n",
    "outshp = \"super_poly.shp\"\n",
    "small_list = []\n",
    "big_list = []\n",
    "f = open(\"C:\\Geog 503\\lab7\\coordinates.txt\",\"r\")\n",
    "for line in f.readlines():\n",
    "    if line.startswith (\"Feature:\"):\n",
    "        if len(line) > 0:\n",
    "            big_list.append(small_list)\n",
    "    pnt = arcpy.Point()\n",
    "    array = arcpy.Array()\n",
    "    i = 0\n",
    "    for item in big_list:\n",
    "        pnt.X = item[0]\n",
    "        pnt.Y = item[1]\n",
    "        array.add(pnt)\n",
    "        fc = arcpy.Polygon(array,spatialref)\n",
    "        geomlist.append(fc)\n",
    "        biglist = []\n",
    "        i += 1\n",
    "    else:\n",
    "        if line.startswith (\"X\"):\n",
    "            XY = line.split(\",\")\n",
    "            X = XY[0].split(\"=\")[1]\n",
    "            Y = XY[1].split(\"=\")[1]\n",
    "            small_list.append(float(X))\n",
    "            small_list.append(float(Y))            \n",
    "big_list.append(small_list)\n",
    "arcpy.CopyFeatures_management(geomlist,outshp)"
   ]
  }
 ],
 "metadata": {
  "anaconda-cloud": {},
  "kernelspec": {
   "display_name": "Python [conda env:arc104]",
   "language": "python",
   "name": "conda-env-arc104-py"
  },
  "language_info": {
   "codemirror_mode": {
    "name": "ipython",
    "version": 2.0
   },
   "file_extension": ".py",
   "mimetype": "text/x-python",
   "name": "python",
   "nbconvert_exporter": "python",
   "pygments_lexer": "ipython2",
   "version": "2.7.12"
  }
 },
 "nbformat": 4,
 "nbformat_minor": 0
}