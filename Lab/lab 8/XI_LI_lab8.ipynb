{
 "cells": [
  {
   "cell_type": "markdown",
   "metadata": {},
   "source": [
    "# Question 1"
   ]
  },
  {
   "cell_type": "code",
   "execution_count": 9,
   "metadata": {
    "collapsed": false
   },
   "outputs": [
    {
     "name": "stdout",
     "output_type": "stream",
     "text": [
      "The raster solution is 30.0 by 30.0.\n"
     ]
    }
   ],
   "source": [
    "# check Elevation raster dataset's spatial reference and cell size\n",
    "import arcpy\n",
    "from arcpy.sa import *\n",
    "from arcpy import env\n",
    "env.workspace = r\"C:\\Geog 503\\lab8\"\n",
    "raster = r\"C:\\Geog 503\\lab8\\elevation\"\n",
    "desc = arcpy.Describe(raster)\n",
    "spatialref = desc.SpatialReference\n",
    "x = desc.meanCellHeight\n",
    "y = desc.meanCellWidth\n",
    "print(\"The raster solution is \" + str(x) + \" by \" + str(y) + \".\")"
   ]
  },
  {
   "cell_type": "code",
   "execution_count": null,
   "metadata": {
    "collapsed": false
   },
   "outputs": [],
   "source": [
    "# reproject landcover.tif\n",
    "env.overwriteOutput = True\n",
    "if arcpy.CheckExtension(\"spatial\") == \"Available\":\n",
    "    arcpy.CheckOutExtension(\"spatial\")\n",
    "in_raster = r\"C:\\Geog 503\\lab8\\landcover.tif\"\n",
    "lc = arcpy.Raster(in_raster)\n",
    "env.cellsize = \"30\"\n",
    "env.outputCoordinateSystem = spatialref\n",
    "lcraster = ApplyEnvironment(in_raster)\n",
    "lcraster.save(r\"C:\\Geog 503\\lab8\\Results\\lc.tif\")\n",
    "arcpy.CheckInExtension(\"spatial\")"
   ]
  },
  {
   "cell_type": "code",
   "execution_count": 6,
   "metadata": {
    "collapsed": false
   },
   "outputs": [
    {
     "data": {
      "text/plain": [
       "u'CheckedIn'"
      ]
     },
     "execution_count": 6,
     "metadata": {},
     "output_type": "execute_result"
    }
   ],
   "source": [
    "# reproject tm.img (multiband raster dataset)\n",
    "env.overwriteOutput = True\n",
    "if arcpy.CheckExtension(\"spatial\") == \"Available\":\n",
    "    arcpy.CheckOutExtension(\"spatial\")\n",
    "in_raster = r\"C:\\Geog 503\\lab8\\tm.img\"\n",
    "band1 = \"tm.img/Layer_1\"\n",
    "band2 = \"tm.img/Layer_2\"\n",
    "band3 = \"tm.img/Layer_3\"\n",
    "env.cellsize = \"30\"\n",
    "env.outputCoordinateSystem = spatialref\n",
    "tm1 = ApplyEnvironment(band1)\n",
    "tm1.save(r\"C:\\Geog 503\\lab8\\Results\\tm_band1.img\")\n",
    "tm2 = ApplyEnvironment(band2)\n",
    "tm2.save(r\"C:\\Geog 503\\lab8\\Results\\tm_band2.img\")\n",
    "tm3 = ApplyEnvironment(band3)\n",
    "tm3.save(r\"C:\\Geog 503\\lab8\\Results\\tm_band3.img\")\n",
    "# use map algera operator to plus results together\n",
    "b1 = arcpy.Raster(r\"C:\\Geog 503\\lab8\\Results\\tm_band1.img\")\n",
    "b2 = arcpy.Raster(r\"C:\\Geog 503\\lab8\\Results\\tm_band2.img\")\n",
    "b3 = arcpy.Raster(r\"C:\\Geog 503\\lab8\\Results\\tm_band3.img\")\n",
    "outraster = (b1 + b2 + b3)\n",
    "outraster.save(r\"C:\\Geog 503\\lab8\\Results\\tm.img\")\n",
    "arcpy.CheckInExtension(\"spatial\")"
   ]
  },
  {
   "cell_type": "markdown",
   "metadata": {},
   "source": [
    "# Question 2"
   ]
  },
  {
   "cell_type": "code",
   "execution_count": 14,
   "metadata": {
    "collapsed": false
   },
   "outputs": [
    {
     "data": {
      "text/plain": [
       "u'CheckedIn'"
      ]
     },
     "execution_count": 14,
     "metadata": {},
     "output_type": "execute_result"
    }
   ],
   "source": [
    "if arcpy.CheckExtension(\"spatial\") == \"Available\":\n",
    "    arcpy.CheckOutExtension(\"spatial\")\n",
    "# reclassify\n",
    "in_raster = \"landcover.tif\"\n",
    "field = \"Value\"\n",
    "myremap = RemapValue([[11,1],[21,2],[22,2],[23,2],[24,2],[31,3],[41,4],[42,4],[43,4],[52,5],[71,7],[81,8],[82,8],[90,9],[95,9]])\n",
    "outreclass = Reclassify(in_raster,field,myremap,\"#\")\n",
    "outreclass.save(r\"C:\\Geog 503\\lab8\\Results\\lc.tif\")\n",
    "#ApplyEnvironment\n",
    "in_raster = r\"C:\\Geog 503\\lab8\\Results\\lc.tif\"\n",
    "env.mask = r\"C:\\Geog 503\\lab8\\elevation\"\n",
    "lc_raster = ApplyEnvironment(in_raster)\n",
    "lc_raster.save(r\"C:\\Geog 503\\lab8\\Results\\landcover.tif\")\n",
    "arcpy.CheckInExtension(\"spatial\")"
   ]
  }
 ],
 "metadata": {
  "anaconda-cloud": {},
  "kernelspec": {
   "display_name": "Python [conda env:arc104]",
   "language": "python",
   "name": "conda-env-arc104-py"
  },
  "language_info": {
   "codemirror_mode": {
    "name": "ipython",
    "version": 2.0
   },
   "file_extension": ".py",
   "mimetype": "text/x-python",
   "name": "python",
   "nbconvert_exporter": "python",
   "pygments_lexer": "ipython2",
   "version": "2.7.12"
  }
 },
 "nbformat": 4,
 "nbformat_minor": 0
}